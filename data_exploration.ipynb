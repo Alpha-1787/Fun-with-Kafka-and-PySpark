{
 "cells": [
  {
   "cell_type": "markdown",
   "metadata": {},
   "source": [
    "# equipment_purchases data"
   ]
  },
  {
   "cell_type": "code",
   "execution_count": 2,
   "metadata": {},
   "outputs": [
    {
     "name": "stdout",
     "output_type": "stream",
     "text": [
      "+--------------------+--------------------+------+-----------------+---------------+-------------------+--------------+\n",
      "|           raw_event|           timestamp|Accept|             Host|     User-Agent|           event_ts|    event_type|\n",
      "+--------------------+--------------------+------+-----------------+---------------+-------------------+--------------+\n",
      "|{\"event_ts\": 1533...|2018-08-06 07:12:...|   */*|user1.comcast.com|ApacheBench/2.3|1.533539531855363E9|purchase_sword|\n",
      "|{\"event_ts\": 1533...|2018-08-06 07:12:...|   */*|user1.comcast.com|ApacheBench/2.3|1.533539531863716E9|purchase_sword|\n",
      "|{\"event_ts\": 1533...|2018-08-06 07:12:...|   */*|user1.comcast.com|ApacheBench/2.3|1.533539531865772E9|purchase_sword|\n",
      "|{\"event_ts\": 1533...|2018-08-06 07:12:...|   */*|user1.comcast.com|ApacheBench/2.3|1.533539531867999E9|purchase_sword|\n",
      "|{\"event_ts\": 1533...|2018-08-06 07:12:...|   */*|user1.comcast.com|ApacheBench/2.3|1.533539531877223E9|purchase_sword|\n",
      "|{\"event_ts\": 1533...|2018-08-06 07:12:...|   */*|user1.comcast.com|ApacheBench/2.3|   1.533539531883E9|purchase_sword|\n",
      "|{\"event_ts\": 1533...|2018-08-06 07:12:...|   */*|user1.comcast.com|ApacheBench/2.3|1.533539531887048E9|purchase_sword|\n",
      "|{\"event_ts\": 1533...|2018-08-06 07:12:...|   */*|user1.comcast.com|ApacheBench/2.3| 1.53353953189168E9|purchase_sword|\n",
      "|{\"event_ts\": 1533...|2018-08-06 07:12:...|   */*|user1.comcast.com|ApacheBench/2.3|1.533539531895078E9|purchase_sword|\n",
      "|{\"event_ts\": 1533...|2018-08-06 07:12:...|   */*|user1.comcast.com|ApacheBench/2.3| 1.53353953189838E9|purchase_sword|\n",
      "|{\"event_ts\": 1533...|2018-08-06 07:12:...|   */*|    user2.att.com|ApacheBench/2.3|1.533539536666714E9|purchase_spear|\n",
      "|{\"event_ts\": 1533...|2018-08-06 07:12:...|   */*|    user2.att.com|ApacheBench/2.3|1.533539536674991E9|purchase_spear|\n",
      "|{\"event_ts\": 1533...|2018-08-06 07:12:...|   */*|    user2.att.com|ApacheBench/2.3|1.533539536677794E9|purchase_spear|\n",
      "|{\"event_ts\": 1533...|2018-08-06 07:12:...|   */*|    user2.att.com|ApacheBench/2.3|1.533539536686833E9|purchase_spear|\n",
      "|{\"event_ts\": 1533...|2018-08-06 07:12:...|   */*|    user2.att.com|ApacheBench/2.3|1.533539536695521E9|purchase_spear|\n",
      "|{\"event_ts\": 1533...|2018-08-06 07:12:...|   */*|    user2.att.com|ApacheBench/2.3|1.533539536699299E9|purchase_spear|\n",
      "|{\"event_ts\": 1533...|2018-08-06 07:12:...|   */*|    user2.att.com|ApacheBench/2.3|1.533539536701523E9|purchase_spear|\n",
      "|{\"event_ts\": 1533...|2018-08-06 07:12:...|   */*|    user2.att.com|ApacheBench/2.3|1.533539536707264E9|purchase_spear|\n",
      "|{\"event_ts\": 1533...|2018-08-06 07:12:...|   */*|    user2.att.com|ApacheBench/2.3|1.533539536710061E9|purchase_spear|\n",
      "|{\"event_ts\": 1533...|2018-08-06 07:12:...|   */*|    user2.att.com|ApacheBench/2.3|1.533539536711992E9|purchase_spear|\n",
      "+--------------------+--------------------+------+-----------------+---------------+-------------------+--------------+\n",
      "only showing top 20 rows\n",
      "\n"
     ]
    }
   ],
   "source": [
    "equipment_purchases = spark.read.parquet('/tmp/equipment_purchases')\n",
    "equipment_purchases.show()\n",
    "equipment_purchases.registerTempTable('equipment_purchases')"
   ]
  },
  {
   "cell_type": "code",
   "execution_count": 4,
   "metadata": {},
   "outputs": [
    {
     "data": {
      "text/html": [
       "<div>\n",
       "<style>\n",
       "    .dataframe thead tr:only-child th {\n",
       "        text-align: right;\n",
       "    }\n",
       "\n",
       "    .dataframe thead th {\n",
       "        text-align: left;\n",
       "    }\n",
       "\n",
       "    .dataframe tbody tr th {\n",
       "        vertical-align: top;\n",
       "    }\n",
       "</style>\n",
       "<table border=\"1\" class=\"dataframe\">\n",
       "  <thead>\n",
       "    <tr style=\"text-align: right;\">\n",
       "      <th></th>\n",
       "      <th>event_type</th>\n",
       "    </tr>\n",
       "  </thead>\n",
       "  <tbody>\n",
       "    <tr>\n",
       "      <th>0</th>\n",
       "      <td>purchase_sword</td>\n",
       "    </tr>\n",
       "    <tr>\n",
       "      <th>1</th>\n",
       "      <td>purchase_spear</td>\n",
       "    </tr>\n",
       "    <tr>\n",
       "      <th>2</th>\n",
       "      <td>purchase_shield</td>\n",
       "    </tr>\n",
       "  </tbody>\n",
       "</table>\n",
       "</div>"
      ],
      "text/plain": [
       "        event_type\n",
       "0   purchase_sword\n",
       "1   purchase_spear\n",
       "2  purchase_shield"
      ]
     },
     "execution_count": 4,
     "metadata": {},
     "output_type": "execute_result"
    }
   ],
   "source": [
    "#basic query to check how many event types are in the equipment_purchases table\n",
    "#given the spark submit filter, we should only get purchase_sword, purchase_spear and purchase_shield\n",
    "query = \"\"\"\n",
    "SELECT\n",
    "    DISTINCT event_type\n",
    "FROM\n",
    "    equipment_purchases\n",
    "\"\"\"\n",
    "spark.sql(query).toPandas()"
   ]
  },
  {
   "cell_type": "code",
   "execution_count": 6,
   "metadata": {},
   "outputs": [
    {
     "data": {
      "text/html": [
       "<div>\n",
       "<style>\n",
       "    .dataframe thead tr:only-child th {\n",
       "        text-align: right;\n",
       "    }\n",
       "\n",
       "    .dataframe thead th {\n",
       "        text-align: left;\n",
       "    }\n",
       "\n",
       "    .dataframe tbody tr th {\n",
       "        vertical-align: top;\n",
       "    }\n",
       "</style>\n",
       "<table border=\"1\" class=\"dataframe\">\n",
       "  <thead>\n",
       "    <tr style=\"text-align: right;\">\n",
       "      <th></th>\n",
       "      <th>event_type</th>\n",
       "      <th>event_count</th>\n",
       "    </tr>\n",
       "  </thead>\n",
       "  <tbody>\n",
       "    <tr>\n",
       "      <th>0</th>\n",
       "      <td>purchase_sword</td>\n",
       "      <td>10</td>\n",
       "    </tr>\n",
       "    <tr>\n",
       "      <th>1</th>\n",
       "      <td>purchase_spear</td>\n",
       "      <td>10</td>\n",
       "    </tr>\n",
       "    <tr>\n",
       "      <th>2</th>\n",
       "      <td>purchase_shield</td>\n",
       "      <td>40</td>\n",
       "    </tr>\n",
       "  </tbody>\n",
       "</table>\n",
       "</div>"
      ],
      "text/plain": [
       "        event_type  event_count\n",
       "0   purchase_sword           10\n",
       "1   purchase_spear           10\n",
       "2  purchase_shield           40"
      ]
     },
     "execution_count": 6,
     "metadata": {},
     "output_type": "execute_result"
    }
   ],
   "source": [
    "#query how many event for each event_types\n",
    "query =\"\"\"\n",
    "SELECT\n",
    "    event_type,\n",
    "    COUNT(*) event_count\n",
    "FROM\n",
    "    equipment_purchases\n",
    "GROUP BY\n",
    "    event_type\n",
    "\"\"\"\n",
    "spark.sql(query).toPandas()"
   ]
  },
  {
   "cell_type": "markdown",
   "metadata": {},
   "source": [
    "# consumable_purchases data"
   ]
  },
  {
   "cell_type": "code",
   "execution_count": 7,
   "metadata": {},
   "outputs": [
    {
     "name": "stdout",
     "output_type": "stream",
     "text": [
      "+--------------------+--------------------+------+-------------+---------------+-------------------+-------------------+---------------+\n",
      "|           raw_event|           timestamp|Accept|         Host|     User-Agent|        description|           event_ts|     event_type|\n",
      "+--------------------+--------------------+------+-------------+---------------+-------------------+-------------------+---------------+\n",
      "|{\"event_type\": \"p...|2018-08-06 08:06:...|   */*|user3.att.com|ApacheBench/2.3|heals you for 50 hp|1.533542775465839E9|purchase_potion|\n",
      "|{\"event_type\": \"p...|2018-08-06 08:06:...|   */*|user3.att.com|ApacheBench/2.3|heals you for 50 hp|1.533542775474074E9|purchase_potion|\n",
      "|{\"event_type\": \"p...|2018-08-06 08:06:...|   */*|user3.att.com|ApacheBench/2.3|heals you for 50 hp|1.533542775478743E9|purchase_potion|\n",
      "|{\"event_type\": \"p...|2018-08-06 08:06:...|   */*|user3.att.com|ApacheBench/2.3|heals you for 50 hp|1.533542775483966E9|purchase_potion|\n",
      "|{\"event_type\": \"p...|2018-08-06 08:06:...|   */*|user3.att.com|ApacheBench/2.3|heals you for 50 hp|1.533542775488017E9|purchase_potion|\n",
      "|{\"event_type\": \"p...|2018-08-06 08:06:...|   */*|user3.att.com|ApacheBench/2.3|heals you for 50 hp|1.533542775489928E9|purchase_potion|\n",
      "|{\"event_type\": \"p...|2018-08-06 08:06:...|   */*|user3.att.com|ApacheBench/2.3|heals you for 50 hp|1.533542775498662E9|purchase_potion|\n",
      "|{\"event_type\": \"p...|2018-08-06 08:06:...|   */*|user3.att.com|ApacheBench/2.3|heals you for 50 hp|1.533542775502202E9|purchase_potion|\n",
      "|{\"event_type\": \"p...|2018-08-06 08:06:...|   */*|user3.att.com|ApacheBench/2.3|heals you for 50 hp|1.533542775506153E9|purchase_potion|\n",
      "|{\"event_type\": \"p...|2018-08-06 08:06:...|   */*|user3.att.com|ApacheBench/2.3|heals you for 50 hp|1.533542775509951E9|purchase_potion|\n",
      "|{\"event_type\": \"p...|2018-08-06 08:09:...|   */*|user3.att.com|ApacheBench/2.3|heals you for 50 hp|1.533542961166167E9|purchase_potion|\n",
      "|{\"event_type\": \"p...|2018-08-06 08:09:...|   */*|user3.att.com|ApacheBench/2.3|heals you for 50 hp|1.533542961168622E9|purchase_potion|\n",
      "|{\"event_type\": \"p...|2018-08-06 08:09:...|   */*|user3.att.com|ApacheBench/2.3|heals you for 50 hp|1.533542961170979E9|purchase_potion|\n",
      "|{\"event_type\": \"p...|2018-08-06 08:09:...|   */*|user3.att.com|ApacheBench/2.3|heals you for 50 hp| 1.53354296117808E9|purchase_potion|\n",
      "|{\"event_type\": \"p...|2018-08-06 08:09:...|   */*|user3.att.com|ApacheBench/2.3|heals you for 50 hp|1.533542961181883E9|purchase_potion|\n",
      "|{\"event_type\": \"p...|2018-08-06 08:09:...|   */*|user3.att.com|ApacheBench/2.3|heals you for 50 hp|1.533542961185404E9|purchase_potion|\n",
      "|{\"event_type\": \"p...|2018-08-06 08:09:...|   */*|user3.att.com|ApacheBench/2.3|heals you for 50 hp|1.533542961187187E9|purchase_potion|\n",
      "|{\"event_type\": \"p...|2018-08-06 08:09:...|   */*|user3.att.com|ApacheBench/2.3|heals you for 50 hp|1.533542961188482E9|purchase_potion|\n",
      "|{\"event_type\": \"p...|2018-08-06 08:09:...|   */*|user3.att.com|ApacheBench/2.3|heals you for 50 hp|1.533542961190765E9|purchase_potion|\n",
      "|{\"event_type\": \"p...|2018-08-06 08:09:...|   */*|user3.att.com|ApacheBench/2.3|heals you for 50 hp|1.533542961192258E9|purchase_potion|\n",
      "+--------------------+--------------------+------+-------------+---------------+-------------------+-------------------+---------------+\n",
      "\n"
     ]
    }
   ],
   "source": [
    "consumable_purchases = spark.read.parquet('/tmp/consumable_purchases')\n",
    "consumable_purchases.show()\n",
    "consumable_purchases.registerTempTable('consumable_purchases')"
   ]
  },
  {
   "cell_type": "code",
   "execution_count": 8,
   "metadata": {},
   "outputs": [
    {
     "data": {
      "text/html": [
       "<div>\n",
       "<style>\n",
       "    .dataframe thead tr:only-child th {\n",
       "        text-align: right;\n",
       "    }\n",
       "\n",
       "    .dataframe thead th {\n",
       "        text-align: left;\n",
       "    }\n",
       "\n",
       "    .dataframe tbody tr th {\n",
       "        vertical-align: top;\n",
       "    }\n",
       "</style>\n",
       "<table border=\"1\" class=\"dataframe\">\n",
       "  <thead>\n",
       "    <tr style=\"text-align: right;\">\n",
       "      <th></th>\n",
       "      <th>event_type</th>\n",
       "    </tr>\n",
       "  </thead>\n",
       "  <tbody>\n",
       "    <tr>\n",
       "      <th>0</th>\n",
       "      <td>purchase_potion</td>\n",
       "    </tr>\n",
       "  </tbody>\n",
       "</table>\n",
       "</div>"
      ],
      "text/plain": [
       "        event_type\n",
       "0  purchase_potion"
      ]
     },
     "execution_count": 8,
     "metadata": {},
     "output_type": "execute_result"
    }
   ],
   "source": [
    "#basic query to check how many event types are in the consumable_purchases table\n",
    "#given the spark submit filter, we should only get purchase_potion\n",
    "query = \"\"\"\n",
    "SELECT\n",
    "    DISTINCT event_type\n",
    "FROM\n",
    "    consumable_purchases\n",
    "\"\"\"\n",
    "spark.sql(query).toPandas()"
   ]
  },
  {
   "cell_type": "code",
   "execution_count": 11,
   "metadata": {},
   "outputs": [
    {
     "data": {
      "text/html": [
       "<div>\n",
       "<style>\n",
       "    .dataframe thead tr:only-child th {\n",
       "        text-align: right;\n",
       "    }\n",
       "\n",
       "    .dataframe thead th {\n",
       "        text-align: left;\n",
       "    }\n",
       "\n",
       "    .dataframe tbody tr th {\n",
       "        vertical-align: top;\n",
       "    }\n",
       "</style>\n",
       "<table border=\"1\" class=\"dataframe\">\n",
       "  <thead>\n",
       "    <tr style=\"text-align: right;\">\n",
       "      <th></th>\n",
       "      <th>host</th>\n",
       "      <th>event_count</th>\n",
       "    </tr>\n",
       "  </thead>\n",
       "  <tbody>\n",
       "    <tr>\n",
       "      <th>0</th>\n",
       "      <td>user3.att.com</td>\n",
       "      <td>20</td>\n",
       "    </tr>\n",
       "  </tbody>\n",
       "</table>\n",
       "</div>"
      ],
      "text/plain": [
       "            host  event_count\n",
       "0  user3.att.com           20"
      ]
     },
     "execution_count": 11,
     "metadata": {},
     "output_type": "execute_result"
    }
   ],
   "source": [
    "#query how many event for purchase_potion for each host\n",
    "query =\"\"\"\n",
    "SELECT\n",
    "    host,\n",
    "    COUNT(*) event_count\n",
    "FROM\n",
    "    consumable_purchases\n",
    "GROUP BY\n",
    "    host\n",
    "\"\"\"\n",
    "spark.sql(query).toPandas()"
   ]
  }
 ],
 "metadata": {
  "kernelspec": {
   "display_name": "Python 3",
   "language": "python",
   "name": "python3"
  },
  "language_info": {
   "codemirror_mode": {
    "name": "ipython",
    "version": 3
   },
   "file_extension": ".py",
   "mimetype": "text/x-python",
   "name": "python",
   "nbconvert_exporter": "python",
   "pygments_lexer": "ipython3",
   "version": "3.6.5"
  }
 },
 "nbformat": 4,
 "nbformat_minor": 2
}
